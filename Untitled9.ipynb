{
 "cells": [
  {
   "cell_type": "code",
   "execution_count": 2,
   "metadata": {},
   "outputs": [
    {
     "name": "stdout",
     "output_type": "stream",
     "text": [
      "         day     city  temperture  windspeed   event\n",
      "0   1/1/2018  newyork          32          3    rain\n",
      "1   1/2/2018  newyork          34          4   sunny\n",
      "2   1/3/2018  newyork          35          5   sunny\n",
      "3   1/5/2018  newyork          36          6  cloudy\n",
      "4   1/1/2018   mumbai          33          7     fog\n",
      "5   1/2/2018   mumbai          12          8   sunny\n",
      "6   1/3/2018   mumbai          45          1     fog\n",
      "7   1/5/2018   mumbai          78          2     fog\n",
      "8   1/1/2018    paris          76          3    rain\n",
      "9   1/2/2018    paris          97         12    rain\n",
      "10  1/3/2018    paris          65         34  cloudy\n",
      "11  1/5/2018    paris          58         25  cloudy\n"
     ]
    }
   ],
   "source": [
    "#TO reshape dataframe using  melt\n",
    "import pandas as pd\n",
    "df=pd.read_csv(\"cityweather1.csv\")\n",
    "print(df)"
   ]
  },
  {
   "cell_type": "code",
   "execution_count": 10,
   "metadata": {},
   "outputs": [
    {
     "name": "stdout",
     "output_type": "stream",
     "text": [
      "         day        temp     city\n",
      "0   1/1/2018        city  newyork\n",
      "1   1/2/2018        city  newyork\n",
      "2   1/3/2018        city  newyork\n",
      "3   1/5/2018        city  newyork\n",
      "4   1/1/2018        city   mumbai\n",
      "5   1/2/2018        city   mumbai\n",
      "6   1/3/2018        city   mumbai\n",
      "7   1/5/2018        city   mumbai\n",
      "8   1/1/2018        city    paris\n",
      "9   1/2/2018        city    paris\n",
      "10  1/3/2018        city    paris\n",
      "11  1/5/2018        city    paris\n",
      "12  1/1/2018  temperture       32\n",
      "13  1/2/2018  temperture       34\n",
      "14  1/3/2018  temperture       35\n",
      "15  1/5/2018  temperture       36\n",
      "16  1/1/2018  temperture       33\n",
      "17  1/2/2018  temperture       12\n",
      "18  1/3/2018  temperture       45\n",
      "19  1/5/2018  temperture       78\n",
      "20  1/1/2018  temperture       76\n",
      "21  1/2/2018  temperture       97\n",
      "22  1/3/2018  temperture       65\n",
      "23  1/5/2018  temperture       58\n",
      "24  1/1/2018   windspeed        3\n",
      "25  1/2/2018   windspeed        4\n",
      "26  1/3/2018   windspeed        5\n",
      "27  1/5/2018   windspeed        6\n",
      "28  1/1/2018   windspeed        7\n",
      "29  1/2/2018   windspeed        8\n",
      "30  1/3/2018   windspeed        1\n",
      "31  1/5/2018   windspeed        2\n",
      "32  1/1/2018   windspeed        3\n",
      "33  1/2/2018   windspeed       12\n",
      "34  1/3/2018   windspeed       34\n",
      "35  1/5/2018   windspeed       25\n",
      "36  1/1/2018       event     rain\n",
      "37  1/2/2018       event    sunny\n",
      "38  1/3/2018       event    sunny\n",
      "39  1/5/2018       event   cloudy\n",
      "40  1/1/2018       event      fog\n",
      "41  1/2/2018       event    sunny\n",
      "42  1/3/2018       event      fog\n",
      "43  1/5/2018       event      fog\n",
      "44  1/1/2018       event     rain\n",
      "45  1/2/2018       event     rain\n",
      "46  1/3/2018       event   cloudy\n",
      "47  1/5/2018       event   cloudy\n"
     ]
    }
   ],
   "source": [
    "df1=pd.melt(df,id_vars=[\"day\"],var_name=\"temp\",value_name=\"city\")\n",
    "print(df1)"
   ]
  },
  {
   "cell_type": "code",
   "execution_count": null,
   "metadata": {
    "collapsed": true
   },
   "outputs": [],
   "source": []
  }
 ],
 "metadata": {
  "kernelspec": {
   "display_name": "Python 3",
   "language": "python",
   "name": "python3"
  },
  "language_info": {
   "codemirror_mode": {
    "name": "ipython",
    "version": 3
   },
   "file_extension": ".py",
   "mimetype": "text/x-python",
   "name": "python",
   "nbconvert_exporter": "python",
   "pygments_lexer": "ipython3",
   "version": "3.6.3"
  }
 },
 "nbformat": 4,
 "nbformat_minor": 2
}
