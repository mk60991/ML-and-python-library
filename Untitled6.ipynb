{
 "cells": [
  {
   "cell_type": "code",
   "execution_count": 2,
   "metadata": {},
   "outputs": [
    {
     "name": "stdout",
     "output_type": "stream",
     "text": [
      "         day     city  temperture  windspeed   event\n",
      "0   1/1/2018  newyork          32          3    rain\n",
      "1   1/2/2018  newyork          34          4   sunny\n",
      "2   1/3/2018  newyork          35          5   sunny\n",
      "3   1/5/2018  newyork          36          6  cloudy\n",
      "4   1/1/2018   mumbai          33          7     fog\n",
      "5   1/2/2018   mumbai          12          8   sunny\n",
      "6   1/3/2018   mumbai          45          1     fog\n",
      "7   1/5/2018   mumbai          78          2     fog\n",
      "8   1/1/2018    paris          76          3    rain\n",
      "9   1/2/2018    paris          97         12    rain\n",
      "10  1/3/2018    paris          65         34  cloudy\n",
      "11  1/5/2018    paris          58         25  cloudy\n"
     ]
    }
   ],
   "source": [
    "#group by (split  apply combine)\n",
    "import pandas as pd\n",
    "df=pd.read_csv(\"cityweather1.csv\")\n",
    "print(df)"
   ]
  },
  {
   "cell_type": "code",
   "execution_count": 4,
   "metadata": {},
   "outputs": [
    {
     "name": "stdout",
     "output_type": "stream",
     "text": [
      "<pandas.core.groupby.DataFrameGroupBy object at 0x0000029BEBB95D30>\n",
      "mumbai\n",
      "        day    city  temperture  windspeed  event\n",
      "4  1/1/2018  mumbai          33          7    fog\n",
      "5  1/2/2018  mumbai          12          8  sunny\n",
      "6  1/3/2018  mumbai          45          1    fog\n",
      "7  1/5/2018  mumbai          78          2    fog\n",
      "newyork\n",
      "        day     city  temperture  windspeed   event\n",
      "0  1/1/2018  newyork          32          3    rain\n",
      "1  1/2/2018  newyork          34          4   sunny\n",
      "2  1/3/2018  newyork          35          5   sunny\n",
      "3  1/5/2018  newyork          36          6  cloudy\n",
      "paris\n",
      "         day   city  temperture  windspeed   event\n",
      "8   1/1/2018  paris          76          3    rain\n",
      "9   1/2/2018  paris          97         12    rain\n",
      "10  1/3/2018  paris          65         34  cloudy\n",
      "11  1/5/2018  paris          58         25  cloudy\n"
     ]
    }
   ],
   "source": [
    "#to group dataset citywise\n",
    "g=df.groupby('city')\n",
    "print(g)\n",
    "\n",
    "#use iterator to to access city and its dataframe\n",
    "for city,city_df in g:\n",
    "    print(city)\n",
    "    print(city_df)"
   ]
  },
  {
   "cell_type": "code",
   "execution_count": 7,
   "metadata": {},
   "outputs": [
    {
     "name": "stdout",
     "output_type": "stream",
     "text": [
      "         day     city  temperture  windspeed   event\n",
      "0   1/1/2018  newyork          32          3    rain\n",
      "1   1/2/2018  newyork          34          4   sunny\n",
      "2   1/3/2018  newyork          35          5   sunny\n",
      "3   1/5/2018  newyork          36          6  cloudy\n",
      "4   1/1/2018   mumbai          33          7     fog\n",
      "5   1/2/2018   mumbai          12          8   sunny\n",
      "6   1/3/2018   mumbai          45          1     fog\n",
      "7   1/5/2018   mumbai          78          2     fog\n",
      "8   1/1/2018    paris          76          3    rain\n",
      "9   1/2/2018    paris          97         12    rain\n",
      "10  1/3/2018    paris          65         34  cloudy\n",
      "11  1/5/2018    paris          58         25  cloudy\n"
     ]
    },
    {
     "data": {
      "text/html": [
       "<div>\n",
       "<style>\n",
       "    .dataframe thead tr:only-child th {\n",
       "        text-align: right;\n",
       "    }\n",
       "\n",
       "    .dataframe thead th {\n",
       "        text-align: left;\n",
       "    }\n",
       "\n",
       "    .dataframe tbody tr th {\n",
       "        vertical-align: top;\n",
       "    }\n",
       "</style>\n",
       "<table border=\"1\" class=\"dataframe\">\n",
       "  <thead>\n",
       "    <tr style=\"text-align: right;\">\n",
       "      <th></th>\n",
       "      <th>day</th>\n",
       "      <th>city</th>\n",
       "      <th>temperture</th>\n",
       "      <th>windspeed</th>\n",
       "      <th>event</th>\n",
       "    </tr>\n",
       "  </thead>\n",
       "  <tbody>\n",
       "    <tr>\n",
       "      <th>4</th>\n",
       "      <td>1/1/2018</td>\n",
       "      <td>mumbai</td>\n",
       "      <td>33</td>\n",
       "      <td>7</td>\n",
       "      <td>fog</td>\n",
       "    </tr>\n",
       "    <tr>\n",
       "      <th>5</th>\n",
       "      <td>1/2/2018</td>\n",
       "      <td>mumbai</td>\n",
       "      <td>12</td>\n",
       "      <td>8</td>\n",
       "      <td>sunny</td>\n",
       "    </tr>\n",
       "    <tr>\n",
       "      <th>6</th>\n",
       "      <td>1/3/2018</td>\n",
       "      <td>mumbai</td>\n",
       "      <td>45</td>\n",
       "      <td>1</td>\n",
       "      <td>fog</td>\n",
       "    </tr>\n",
       "    <tr>\n",
       "      <th>7</th>\n",
       "      <td>1/5/2018</td>\n",
       "      <td>mumbai</td>\n",
       "      <td>78</td>\n",
       "      <td>2</td>\n",
       "      <td>fog</td>\n",
       "    </tr>\n",
       "  </tbody>\n",
       "</table>\n",
       "</div>"
      ],
      "text/plain": [
       "        day    city  temperture  windspeed  event\n",
       "4  1/1/2018  mumbai          33          7    fog\n",
       "5  1/2/2018  mumbai          12          8  sunny\n",
       "6  1/3/2018  mumbai          45          1    fog\n",
       "7  1/5/2018  mumbai          78          2    fog"
      ]
     },
     "execution_count": 7,
     "metadata": {},
     "output_type": "execute_result"
    }
   ],
   "source": [
    "print(df)\n",
    "#to print spcific city group\n",
    "g.get_group(\"mumbai\")"
   ]
  },
  {
   "cell_type": "code",
   "execution_count": 8,
   "metadata": {},
   "outputs": [
    {
     "data": {
      "text/html": [
       "<div>\n",
       "<style>\n",
       "    .dataframe thead tr:only-child th {\n",
       "        text-align: right;\n",
       "    }\n",
       "\n",
       "    .dataframe thead th {\n",
       "        text-align: left;\n",
       "    }\n",
       "\n",
       "    .dataframe tbody tr th {\n",
       "        vertical-align: top;\n",
       "    }\n",
       "</style>\n",
       "<table border=\"1\" class=\"dataframe\">\n",
       "  <thead>\n",
       "    <tr style=\"text-align: right;\">\n",
       "      <th></th>\n",
       "      <th>day</th>\n",
       "      <th>temperture</th>\n",
       "      <th>windspeed</th>\n",
       "      <th>event</th>\n",
       "    </tr>\n",
       "    <tr>\n",
       "      <th>city</th>\n",
       "      <th></th>\n",
       "      <th></th>\n",
       "      <th></th>\n",
       "      <th></th>\n",
       "    </tr>\n",
       "  </thead>\n",
       "  <tbody>\n",
       "    <tr>\n",
       "      <th>mumbai</th>\n",
       "      <td>1/5/2018</td>\n",
       "      <td>78</td>\n",
       "      <td>8</td>\n",
       "      <td>sunny</td>\n",
       "    </tr>\n",
       "    <tr>\n",
       "      <th>newyork</th>\n",
       "      <td>1/5/2018</td>\n",
       "      <td>36</td>\n",
       "      <td>6</td>\n",
       "      <td>sunny</td>\n",
       "    </tr>\n",
       "    <tr>\n",
       "      <th>paris</th>\n",
       "      <td>1/5/2018</td>\n",
       "      <td>97</td>\n",
       "      <td>34</td>\n",
       "      <td>rain</td>\n",
       "    </tr>\n",
       "  </tbody>\n",
       "</table>\n",
       "</div>"
      ],
      "text/plain": [
       "              day  temperture  windspeed  event\n",
       "city                                           \n",
       "mumbai   1/5/2018          78          8  sunny\n",
       "newyork  1/5/2018          36          6  sunny\n",
       "paris    1/5/2018          97         34   rain"
      ]
     },
     "execution_count": 8,
     "metadata": {},
     "output_type": "execute_result"
    }
   ],
   "source": [
    "# to print maximum temperature in each group\n",
    "g.max()"
   ]
  },
  {
   "cell_type": "code",
   "execution_count": 9,
   "metadata": {},
   "outputs": [
    {
     "data": {
      "text/html": [
       "<div>\n",
       "<style>\n",
       "    .dataframe thead tr:only-child th {\n",
       "        text-align: right;\n",
       "    }\n",
       "\n",
       "    .dataframe thead th {\n",
       "        text-align: left;\n",
       "    }\n",
       "\n",
       "    .dataframe tbody tr th {\n",
       "        vertical-align: top;\n",
       "    }\n",
       "</style>\n",
       "<table border=\"1\" class=\"dataframe\">\n",
       "  <thead>\n",
       "    <tr style=\"text-align: right;\">\n",
       "      <th></th>\n",
       "      <th>day</th>\n",
       "      <th>temperture</th>\n",
       "      <th>windspeed</th>\n",
       "      <th>event</th>\n",
       "    </tr>\n",
       "    <tr>\n",
       "      <th>city</th>\n",
       "      <th></th>\n",
       "      <th></th>\n",
       "      <th></th>\n",
       "      <th></th>\n",
       "    </tr>\n",
       "  </thead>\n",
       "  <tbody>\n",
       "    <tr>\n",
       "      <th>mumbai</th>\n",
       "      <td>1/1/2018</td>\n",
       "      <td>12</td>\n",
       "      <td>1</td>\n",
       "      <td>fog</td>\n",
       "    </tr>\n",
       "    <tr>\n",
       "      <th>newyork</th>\n",
       "      <td>1/1/2018</td>\n",
       "      <td>32</td>\n",
       "      <td>3</td>\n",
       "      <td>cloudy</td>\n",
       "    </tr>\n",
       "    <tr>\n",
       "      <th>paris</th>\n",
       "      <td>1/1/2018</td>\n",
       "      <td>58</td>\n",
       "      <td>3</td>\n",
       "      <td>cloudy</td>\n",
       "    </tr>\n",
       "  </tbody>\n",
       "</table>\n",
       "</div>"
      ],
      "text/plain": [
       "              day  temperture  windspeed   event\n",
       "city                                            \n",
       "mumbai   1/1/2018          12          1     fog\n",
       "newyork  1/1/2018          32          3  cloudy\n",
       "paris    1/1/2018          58          3  cloudy"
      ]
     },
     "execution_count": 9,
     "metadata": {},
     "output_type": "execute_result"
    }
   ],
   "source": [
    "# to print minimum temperature in each group city\n",
    "g.min()"
   ]
  },
  {
   "cell_type": "code",
   "execution_count": 10,
   "metadata": {},
   "outputs": [
    {
     "data": {
      "text/html": [
       "<div>\n",
       "<style>\n",
       "    .dataframe thead tr:only-child th {\n",
       "        text-align: right;\n",
       "    }\n",
       "\n",
       "    .dataframe thead th {\n",
       "        text-align: left;\n",
       "    }\n",
       "\n",
       "    .dataframe tbody tr th {\n",
       "        vertical-align: top;\n",
       "    }\n",
       "</style>\n",
       "<table border=\"1\" class=\"dataframe\">\n",
       "  <thead>\n",
       "    <tr style=\"text-align: right;\">\n",
       "      <th></th>\n",
       "      <th>temperture</th>\n",
       "      <th>windspeed</th>\n",
       "    </tr>\n",
       "    <tr>\n",
       "      <th>city</th>\n",
       "      <th></th>\n",
       "      <th></th>\n",
       "    </tr>\n",
       "  </thead>\n",
       "  <tbody>\n",
       "    <tr>\n",
       "      <th>mumbai</th>\n",
       "      <td>42.00</td>\n",
       "      <td>4.5</td>\n",
       "    </tr>\n",
       "    <tr>\n",
       "      <th>newyork</th>\n",
       "      <td>34.25</td>\n",
       "      <td>4.5</td>\n",
       "    </tr>\n",
       "    <tr>\n",
       "      <th>paris</th>\n",
       "      <td>74.00</td>\n",
       "      <td>18.5</td>\n",
       "    </tr>\n",
       "  </tbody>\n",
       "</table>\n",
       "</div>"
      ],
      "text/plain": [
       "         temperture  windspeed\n",
       "city                          \n",
       "mumbai        42.00        4.5\n",
       "newyork       34.25        4.5\n",
       "paris         74.00       18.5"
      ]
     },
     "execution_count": 10,
     "metadata": {},
     "output_type": "execute_result"
    }
   ],
   "source": [
    "# to print mean temperature in each group city\n",
    "g.mean()"
   ]
  },
  {
   "cell_type": "code",
   "execution_count": 11,
   "metadata": {},
   "outputs": [
    {
     "data": {
      "text/html": [
       "<div>\n",
       "<style>\n",
       "    .dataframe thead tr:only-child th {\n",
       "        text-align: right;\n",
       "    }\n",
       "\n",
       "    .dataframe thead th {\n",
       "        text-align: left;\n",
       "    }\n",
       "\n",
       "    .dataframe tbody tr th {\n",
       "        vertical-align: top;\n",
       "    }\n",
       "</style>\n",
       "<table border=\"1\" class=\"dataframe\">\n",
       "  <thead>\n",
       "    <tr>\n",
       "      <th></th>\n",
       "      <th colspan=\"8\" halign=\"left\">temperture</th>\n",
       "      <th colspan=\"8\" halign=\"left\">windspeed</th>\n",
       "    </tr>\n",
       "    <tr>\n",
       "      <th></th>\n",
       "      <th>count</th>\n",
       "      <th>mean</th>\n",
       "      <th>std</th>\n",
       "      <th>min</th>\n",
       "      <th>25%</th>\n",
       "      <th>50%</th>\n",
       "      <th>75%</th>\n",
       "      <th>max</th>\n",
       "      <th>count</th>\n",
       "      <th>mean</th>\n",
       "      <th>std</th>\n",
       "      <th>min</th>\n",
       "      <th>25%</th>\n",
       "      <th>50%</th>\n",
       "      <th>75%</th>\n",
       "      <th>max</th>\n",
       "    </tr>\n",
       "    <tr>\n",
       "      <th>city</th>\n",
       "      <th></th>\n",
       "      <th></th>\n",
       "      <th></th>\n",
       "      <th></th>\n",
       "      <th></th>\n",
       "      <th></th>\n",
       "      <th></th>\n",
       "      <th></th>\n",
       "      <th></th>\n",
       "      <th></th>\n",
       "      <th></th>\n",
       "      <th></th>\n",
       "      <th></th>\n",
       "      <th></th>\n",
       "      <th></th>\n",
       "      <th></th>\n",
       "    </tr>\n",
       "  </thead>\n",
       "  <tbody>\n",
       "    <tr>\n",
       "      <th>mumbai</th>\n",
       "      <td>4.0</td>\n",
       "      <td>42.00</td>\n",
       "      <td>27.604347</td>\n",
       "      <td>12.0</td>\n",
       "      <td>27.75</td>\n",
       "      <td>39.0</td>\n",
       "      <td>53.25</td>\n",
       "      <td>78.0</td>\n",
       "      <td>4.0</td>\n",
       "      <td>4.5</td>\n",
       "      <td>3.511885</td>\n",
       "      <td>1.0</td>\n",
       "      <td>1.75</td>\n",
       "      <td>4.5</td>\n",
       "      <td>7.25</td>\n",
       "      <td>8.0</td>\n",
       "    </tr>\n",
       "    <tr>\n",
       "      <th>newyork</th>\n",
       "      <td>4.0</td>\n",
       "      <td>34.25</td>\n",
       "      <td>1.707825</td>\n",
       "      <td>32.0</td>\n",
       "      <td>33.50</td>\n",
       "      <td>34.5</td>\n",
       "      <td>35.25</td>\n",
       "      <td>36.0</td>\n",
       "      <td>4.0</td>\n",
       "      <td>4.5</td>\n",
       "      <td>1.290994</td>\n",
       "      <td>3.0</td>\n",
       "      <td>3.75</td>\n",
       "      <td>4.5</td>\n",
       "      <td>5.25</td>\n",
       "      <td>6.0</td>\n",
       "    </tr>\n",
       "    <tr>\n",
       "      <th>paris</th>\n",
       "      <td>4.0</td>\n",
       "      <td>74.00</td>\n",
       "      <td>17.029386</td>\n",
       "      <td>58.0</td>\n",
       "      <td>63.25</td>\n",
       "      <td>70.5</td>\n",
       "      <td>81.25</td>\n",
       "      <td>97.0</td>\n",
       "      <td>4.0</td>\n",
       "      <td>18.5</td>\n",
       "      <td>13.723459</td>\n",
       "      <td>3.0</td>\n",
       "      <td>9.75</td>\n",
       "      <td>18.5</td>\n",
       "      <td>27.25</td>\n",
       "      <td>34.0</td>\n",
       "    </tr>\n",
       "  </tbody>\n",
       "</table>\n",
       "</div>"
      ],
      "text/plain": [
       "        temperture                                                    \\\n",
       "             count   mean        std   min    25%   50%    75%   max   \n",
       "city                                                                   \n",
       "mumbai         4.0  42.00  27.604347  12.0  27.75  39.0  53.25  78.0   \n",
       "newyork        4.0  34.25   1.707825  32.0  33.50  34.5  35.25  36.0   \n",
       "paris          4.0  74.00  17.029386  58.0  63.25  70.5  81.25  97.0   \n",
       "\n",
       "        windspeed                                                 \n",
       "            count  mean        std  min   25%   50%    75%   max  \n",
       "city                                                              \n",
       "mumbai        4.0   4.5   3.511885  1.0  1.75   4.5   7.25   8.0  \n",
       "newyork       4.0   4.5   1.290994  3.0  3.75   4.5   5.25   6.0  \n",
       "paris         4.0  18.5  13.723459  3.0  9.75  18.5  27.25  34.0  "
      ]
     },
     "execution_count": 11,
     "metadata": {},
     "output_type": "execute_result"
    }
   ],
   "source": [
    "# to show all type of operation \n",
    "g.describe()"
   ]
  },
  {
   "cell_type": "code",
   "execution_count": 12,
   "metadata": {},
   "outputs": [
    {
     "data": {
      "text/plain": [
       "city\n",
       "mumbai     AxesSubplot(0.125,0.125;0.775x0.755)\n",
       "newyork    AxesSubplot(0.125,0.125;0.775x0.755)\n",
       "paris      AxesSubplot(0.125,0.125;0.775x0.755)\n",
       "dtype: object"
      ]
     },
     "execution_count": 12,
     "metadata": {},
     "output_type": "execute_result"
    },
    {
     "data": {
      "image/png": "[encoded data removed]",
      "text/plain": [
       "<matplotlib.figure.Figure at 0x29bec4bafd0>"
      ]
     },
     "metadata": {},
     "output_type": "display_data"
    },
    {
     "data": {
      "image/png": "[encoded data removed]",
      "text/plain": [
       "<matplotlib.figure.Figure at 0x29bec7bff60>"
      ]
     },
     "metadata": {},
     "output_type": "display_data"
    },
    {
     "data": {
      "image/png": "[encoded data removed]",
      "text/plain": [
       "<matplotlib.figure.Figure at 0x29bec7d8ac8>"
      ]
     },
     "metadata": {},
     "output_type": "display_data"
    }
   ],
   "source": [
    "#to visulise each city in graph\n",
    "%matplotlib inline\n",
    "g.plot()"
   ]
  },
  {
   "cell_type": "code",
   "execution_count": null,
   "metadata": {
    "collapsed": true
   },
   "outputs": [],
   "source": []
  }
 ],
 "metadata": {
  "kernelspec": {
   "display_name": "Python 3",
   "language": "python",
   "name": "python3"
  },
  "language_info": {
   "codemirror_mode": {
    "name": "ipython",
    "version": 3
   },
   "file_extension": ".py",
   "mimetype": "text/x-python",
   "name": "python",
   "nbconvert_exporter": "python",
   "pygments_lexer": "ipython3",
   "version": "3.6.3"
  }
 },
 "nbformat": 4,
 "nbformat_minor": 2
}
