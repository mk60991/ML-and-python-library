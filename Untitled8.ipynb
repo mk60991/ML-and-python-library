{
 "cells": [
  {
   "cell_type": "code",
   "execution_count": 2,
   "metadata": {},
   "outputs": [
    {
     "name": "stdout",
     "output_type": "stream",
     "text": [
      "     city  temperture\n",
      "0  mumbai          32\n",
      "1   delhi          45\n",
      "2  jaipur          60\n"
     ]
    }
   ],
   "source": [
    "#using merge dataframe\n",
    "import pandas as pd\n",
    "tempdf=pd.DataFrame({\n",
    "    'city':['mumbai','delhi','jaipur'],\n",
    "    'temperture':[32,45,60]\n",
    "\n",
    "    \n",
    "})\n",
    "print(tempdf)"
   ]
  },
  {
   "cell_type": "code",
   "execution_count": 11,
   "metadata": {},
   "outputs": [
    {
     "name": "stdout",
     "output_type": "stream",
     "text": [
      "     city  windspeed\n",
      "0   delhi         52\n",
      "1  mumbai        425\n",
      "2  jaipur         87\n"
     ]
    }
   ],
   "source": [
    "windspeed_df=pd.DataFrame({\n",
    "    'city':['delhi','mumbai','jaipur'],\n",
    "    'windspeed':[52,425,87]\n",
    "    \n",
    "})\n",
    "print(windspeed_df)"
   ]
  },
  {
   "cell_type": "code",
   "execution_count": 12,
   "metadata": {},
   "outputs": [
    {
     "name": "stdout",
     "output_type": "stream",
     "text": [
      "     city  temperture    city  windspeed\n",
      "0  mumbai          32   delhi         52\n",
      "1   delhi          45  mumbai        425\n",
      "2  jaipur          60  jaipur         87\n"
     ]
    }
   ],
   "source": [
    "newdf=pd.concat([tempdf,windspeed_df],axis=1)\n",
    "print(newdf)"
   ]
  },
  {
   "cell_type": "code",
   "execution_count": 15,
   "metadata": {},
   "outputs": [
    {
     "name": "stdout",
     "output_type": "stream",
     "text": [
      "     city  temperture\n",
      "0  mumbai          32\n",
      "1   delhi          45\n",
      "2  jaipur          60\n"
     ]
    }
   ],
   "source": [
    "#to correct index error in city by indexing\n",
    "\n",
    "tempdf=pd.DataFrame({\n",
    "    'city':['mumbai','delhi','jaipur'],\n",
    "    'temperture':[32,45,60]\n",
    "\n",
    "    \n",
    "},index=[0,1,2])\n",
    "print(tempdf)"
   ]
  },
  {
   "cell_type": "code",
   "execution_count": 16,
   "metadata": {},
   "outputs": [
    {
     "name": "stdout",
     "output_type": "stream",
     "text": [
      "     city  windspeed\n",
      "1   delhi         52\n",
      "0  mumbai        425\n",
      "2  jaipur         87\n"
     ]
    }
   ],
   "source": [
    "windspeed_df=pd.DataFrame({\n",
    "    'city':['delhi','mumbai','jaipur'],\n",
    "    'windspeed':[52,425,87]\n",
    "    \n",
    "},index=[1,0,2])\n",
    "print(windspeed_df)"
   ]
  },
  {
   "cell_type": "code",
   "execution_count": 17,
   "metadata": {},
   "outputs": [
    {
     "name": "stdout",
     "output_type": "stream",
     "text": [
      "     city  temperture    city  windspeed\n",
      "0  mumbai          32  mumbai        425\n",
      "1   delhi          45   delhi         52\n",
      "2  jaipur          60  jaipur         87\n"
     ]
    }
   ],
   "source": [
    "newdf=pd.concat([tempdf,windspeed_df],axis=1)\n",
    "print(newdf)"
   ]
  },
  {
   "cell_type": "code",
   "execution_count": 20,
   "metadata": {},
   "outputs": [
    {
     "name": "stdout",
     "output_type": "stream",
     "text": [
      "0    humid\n",
      "1      dry\n",
      "2     rain\n",
      "Name: event, dtype: object\n"
     ]
    }
   ],
   "source": [
    "# to craete dataframe using series\n",
    "import pandas as pd\n",
    "eventdf=pd.Series([\"humid\",'dry','rain'],name='event')\n",
    "print(eventdf)"
   ]
  },
  {
   "cell_type": "code",
   "execution_count": 21,
   "metadata": {},
   "outputs": [
    {
     "name": "stdout",
     "output_type": "stream",
     "text": [
      "     city  temperture\n",
      "0  mumbai          32\n",
      "1   delhi          45\n",
      "2  jaipur          60\n",
      "     city  temperture  event\n",
      "0  mumbai          32  humid\n",
      "1   delhi          45    dry\n",
      "2  jaipur          60   rain\n"
     ]
    }
   ],
   "source": [
    "#to concatenate event dataframe to givendataframe\n",
    "print(tempdf)\n",
    "newdf1=pd.concat([tempdf,eventdf],axis=1)\n",
    "print(newdf1)"
   ]
  },
  {
   "cell_type": "code",
   "execution_count": 25,
   "metadata": {},
   "outputs": [
    {
     "name": "stdout",
     "output_type": "stream",
     "text": [
      "     city  temperture  windspeed\n",
      "0  mumbai          32        425\n",
      "1   delhi          45         52\n",
      "2  jaipur          60         87\n"
     ]
    }
   ],
   "source": [
    "\n",
    "#to concat using merge dataframe\n",
    "newdf2=pd.merge(tempdf,windspeed_df)\n",
    "print(newdf2)"
   ]
  },
  {
   "cell_type": "code",
   "execution_count": null,
   "metadata": {
    "collapsed": true
   },
   "outputs": [],
   "source": [
    "\n",
    "\n"
   ]
  },
  {
   "cell_type": "code",
   "execution_count": null,
   "metadata": {
    "collapsed": true
   },
   "outputs": [],
   "source": []
  },
  {
   "cell_type": "code",
   "execution_count": 26,
   "metadata": {},
   "outputs": [
    {
     "name": "stdout",
     "output_type": "stream",
     "text": [
      "      city  temperture\n",
      "0   mumbai          32\n",
      "1    delhi          45\n",
      "2   jaipur          60\n",
      "3  kolkata          54\n",
      "4  chennai          78\n"
     ]
    }
   ],
   "source": [
    "df1=pd.DataFrame({\n",
    "    'city':['mumbai','delhi','jaipur','kolkata','chennai'],\n",
    "    'temperture':[32,45,60,54,78]\n",
    "\n",
    "    \n",
    "})\n",
    "print(df1)"
   ]
  },
  {
   "cell_type": "code",
   "execution_count": 27,
   "metadata": {},
   "outputs": [
    {
     "name": "stdout",
     "output_type": "stream",
     "text": [
      "       city  windspeed\n",
      "0     delhi         52\n",
      "1  banglore        425\n",
      "2    jaipur         87\n"
     ]
    }
   ],
   "source": [
    "df2=pd.DataFrame({\n",
    "    'city':['delhi','banglore','jaipur'],\n",
    "    'windspeed':[52,425,87]\n",
    "    \n",
    "})\n",
    "print(df2)"
   ]
  },
  {
   "cell_type": "code",
   "execution_count": 31,
   "metadata": {},
   "outputs": [
    {
     "name": "stdout",
     "output_type": "stream",
     "text": [
      "     city  temperture  windspeed\n",
      "0   delhi          45         52\n",
      "1  jaipur          60         87\n"
     ]
    }
   ],
   "source": [
    "#it merge dataframe on the basis of intersection or common city in both dataframe\n",
    "newdf3=pd.merge(df1,df2)\n",
    "print(newdf3)"
   ]
  },
  {
   "cell_type": "raw",
   "metadata": {},
   "source": []
  },
  {
   "cell_type": "code",
   "execution_count": 32,
   "metadata": {},
   "outputs": [
    {
     "name": "stdout",
     "output_type": "stream",
     "text": [
      "       city  temperture  windspeed\n",
      "0    mumbai        32.0        NaN\n",
      "1     delhi        45.0       52.0\n",
      "2    jaipur        60.0       87.0\n",
      "3   kolkata        54.0        NaN\n",
      "4   chennai        78.0        NaN\n",
      "5  banglore         NaN      425.0\n"
     ]
    }
   ],
   "source": [
    "#to union two dataframe using 'outer'\n",
    "newdf3=pd.merge(df1,df2,how='outer')\n",
    "print(newdf3)"
   ]
  },
  {
   "cell_type": "code",
   "execution_count": 34,
   "metadata": {},
   "outputs": [
    {
     "name": "stdout",
     "output_type": "stream",
     "text": [
      "     city  temperture  windspeed\n",
      "0   delhi          45         52\n",
      "1  jaipur          60         87\n"
     ]
    }
   ],
   "source": [
    "#to union two dataframe using 'inner' which is default common between two dataframe\n",
    "newdf3=pd.merge(df1,df2,how='inner')\n",
    "print(newdf3)"
   ]
  },
  {
   "cell_type": "code",
   "execution_count": 35,
   "metadata": {},
   "outputs": [
    {
     "name": "stdout",
     "output_type": "stream",
     "text": [
      "      city  temperture  windspeed\n",
      "0   mumbai          32        NaN\n",
      "1    delhi          45       52.0\n",
      "2   jaipur          60       87.0\n",
      "3  kolkata          54        NaN\n",
      "4  chennai          78        NaN\n"
     ]
    }
   ],
   "source": [
    "#to union two dataframe using 'left' which compare with with 1st dataframe and return \n",
    "newdf3=pd.merge(df1,df2,how='left')\n",
    "print(newdf3)"
   ]
  },
  {
   "cell_type": "code",
   "execution_count": 36,
   "metadata": {},
   "outputs": [
    {
     "name": "stdout",
     "output_type": "stream",
     "text": [
      "       city  temperture  windspeed\n",
      "0     delhi        45.0         52\n",
      "1    jaipur        60.0         87\n",
      "2  banglore         NaN        425\n"
     ]
    }
   ],
   "source": [
    "#to union two dataframe using 'right' to compare with 2nd datframe\n",
    "newdf3=pd.merge(df1,df2,how='right')\n",
    "print(newdf3)"
   ]
  },
  {
   "cell_type": "code",
   "execution_count": null,
   "metadata": {
    "collapsed": true
   },
   "outputs": [],
   "source": []
  }
 ],
 "metadata": {
  "kernelspec": {
   "display_name": "Python 3",
   "language": "python",
   "name": "python3"
  },
  "language_info": {
   "codemirror_mode": {
    "name": "ipython",
    "version": 3
   },
   "file_extension": ".py",
   "mimetype": "text/x-python",
   "name": "python",
   "nbconvert_exporter": "python",
   "pygments_lexer": "ipython3",
   "version": "3.6.3"
  }
 },
 "nbformat": 4,
 "nbformat_minor": 2
}
