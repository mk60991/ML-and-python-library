{
 "cells": [
  {
   "cell_type": "code",
   "execution_count": 84,
   "metadata": {},
   "outputs": [
    {
     "ename": "IndentationError",
     "evalue": "expected an indented block (<ipython-input-84-d7fd356b365b>, line 87)",
     "output_type": "error",
     "traceback": [
      "\u001b[1;36m  File \u001b[1;32m\"<ipython-input-84-d7fd356b365b>\"\u001b[1;36m, line \u001b[1;32m87\u001b[0m\n\u001b[1;33m    c=np.arange(6).reshape(3,2)\u001b[0m\n\u001b[1;37m    ^\u001b[0m\n\u001b[1;31mIndentationError\u001b[0m\u001b[1;31m:\u001b[0m expected an indented block\n"
     ]
    }
   ],
   "source": [
    "import numpy as np\n",
    "\n",
    "#print(a)\n",
    "#print(a.ndim)\n",
    "#\n",
    "#print(a.dtype)\n",
    "     \n",
    "a=np.array([[1,2],[3,4],[5,3],[7,8]])   \n",
    "#to change datatype\n",
    "#print(a.dtype)\n",
    "#to check data siore how much value size\n",
    "#print(a.itemsize)\n",
    "#print(a)\n",
    "#show how many roe and column\n",
    "#print(a.shape)\n",
    "#print(np.arange(10))\n",
    "#print(np.arange(1,10,2))\n",
    "#print(np.reshape(2,2))\n",
    "#print(a.min())\n",
    "#print(a.max())\n",
    "#print(a.sum())\n",
    "\n",
    "#to show sum of all individual column means axis=0 is column\n",
    "#print(a.sum(axis=0))\n",
    "\n",
    "#axis=1 means sum of allindividual row\n",
    "#print(a.sum(axis=1))\n",
    "\n",
    "#print(np.sqrt(a))\n",
    "#print(a)\n",
    "# to find sqrt\n",
    "#print(np.sqrt(50))\n",
    "\n",
    "\n",
    "\n",
    "# take two array in done some mathematics\n",
    "x=np.array([[1,2],[3,4],[5,6]])\n",
    "y=np.array([[0,9],[8,7],[6,5]])\n",
    "#print(y)\n",
    "\n",
    "#print(x)\n",
    "#print(x+y)\n",
    "#print(x-y)\n",
    "#print(x*y)\n",
    "#print(x/y)\n",
    "\n",
    "\n",
    "#list slicing\n",
    "a1=([[1,2,3],[4,5,6],[7,8,9]])\n",
    "#print(a1)\n",
    "#print(a1[0:2])\n",
    "\n",
    "#print(a1[-1])\n",
    "\n",
    "a2=([1,2,3,45,6])\n",
    "#print(a2[0:5])\n",
    "#print(a2[-3])\n",
    "\n",
    "\n",
    "\n",
    "\n",
    "#numpy slicinng\n",
    "b1=np.array([2,3,5,78,9])\n",
    "#print(b1[3:5])\n",
    "#print(b1[-5])\n",
    "\n",
    "b2=np.array([[1,2,3],[34,5,7],[7,8,9],[3,4,6]])\n",
    "#print(b2)\n",
    "#print(b2[1:3])\n",
    "#print(b2[0,1])\n",
    "#to print all row\n",
    "#print(b2[:,:])\n",
    "# to print 1st column\n",
    "#print(b2[:,1])\n",
    "# to print 2nd and 3rd column of all row\n",
    "#print(b2[:,1:3])\n",
    "#print(b2[:2,2])\n",
    "\n",
    "\n",
    "\n",
    "\n",
    "#iteratrion\n",
    "c1=np.array([[3,4,23,4],[5,6,56,7],[7,8,43,4]])\n",
    "for r in c1:\n",
    "   # print(r)\n",
    "    \n",
    "    \n",
    "#print(r[:,1:4])\n",
    "\n",
    "c=np.arange(6).reshape(3,2)\n",
    "print(c)\n",
    "\n"
   ]
  },
  {
   "cell_type": "code",
   "execution_count": 54,
   "metadata": {},
   "outputs": [
    {
     "name": "stdout",
     "output_type": "stream",
     "text": [
      "[[ 3]\n",
      " [ 7]\n",
      " [11]]\n",
      "[[ 2]\n",
      " [ 4]\n",
      " [ 6]\n",
      " [ 8]\n",
      " [10]\n",
      " [12]\n",
      " [14]]\n"
     ]
    }
   ],
   "source": [
    "import numpy as np\n",
    "#p=np.array([[1,2,3],[6,7,8],[4,5,3],[7,6,2]])\n",
    "#print(p)\n",
    "\n",
    "\n",
    "#print(p.min())\n",
    "#print(p.max())\n",
    "#print(p.sum())\n",
    "#print(p[0:4])\n",
    "#print(p[:,1])\n",
    "#print(p[1,1])\n",
    "#print(p[2:3])\n",
    "#print(p[-1])\n",
    "# to show sum of all individual row in axis=1\n",
    "#print(p.sum(axis=1))\n",
    "\n",
    "# to show sum of all individual column in axis=0\n",
    "#print(p.sum(axis=0))\n",
    "\n",
    "\n",
    "\n",
    "#p=np.arange(6).reshape(2,3)\n",
    "#print(p)\n",
    "\n",
    "\n",
    "#p=np.arange(6,12).reshape(3,2)\n",
    "#print(p)\n",
    "\n",
    "#p=np.arange(30).reshape(2,15)\n",
    "#print(p)\n",
    "\n",
    "\n",
    "#p=np.arange(6,50).reshape(4,11)   #range is(6,50) means 50-6=44 reshape multiple row and column must be 44 i.e 11*4=44\n",
    "#print(p)\n",
    "\n",
    "#to split above array into horizontly bu 'hsplit'\n",
    "  \n",
    "#range is(6,50) means 50-6=44 reshape multiple row and column must be 44 i.e 11*4=44\n",
    "#p=np.arange(6,50).reshape(4,11)\n",
    "#print(y)\n",
    "#result=np.hsplit(y,3)\n",
    "#print(result[0])\n",
    "#print(result[1])\n",
    "#print(result[2])\n",
    "\n",
    "#to split vertically use vsplit\n",
    "#result=np.vsplit(y,4)\n",
    "#print(result[0])\n",
    "#print(result[1])\n",
    "#print(result[2])\n",
    "#print(result[3])\n",
    "\n",
    "#to compare true or false in array in boolean\n",
    "h=np.arange(6,50).reshape(4,11)\n",
    "#print(h)\n",
    "z=h>30\n",
    "#print(z)\n",
    "\n",
    "# to print only those element which is greater than 30 and 'true' in array format\n",
    "#print(h[z])\n",
    "\n",
    "#to replace true boolean into any numeric value eg '0' remaining are as it is in array\n",
    "h[z]=0\n",
    "#print(h)\n",
    "\n",
    "s=np.arange(3,15,4).reshape(3,1)\n",
    "print(s)\n",
    "s=np.arange(2,15,2).reshape(7,1)\n",
    "print(s)\n"
   ]
  },
  {
   "cell_type": "code",
   "execution_count": null,
   "metadata": {
    "collapsed": true
   },
   "outputs": [],
   "source": []
  },
  {
   "cell_type": "code",
   "execution_count": null,
   "metadata": {
    "collapsed": true
   },
   "outputs": [],
   "source": []
  },
  {
   "cell_type": "code",
   "execution_count": null,
   "metadata": {
    "collapsed": true
   },
   "outputs": [],
   "source": []
  },
  {
   "cell_type": "code",
   "execution_count": null,
   "metadata": {
    "collapsed": true
   },
   "outputs": [],
   "source": []
  },
  {
   "cell_type": "code",
   "execution_count": null,
   "metadata": {
    "collapsed": true
   },
   "outputs": [],
   "source": []
  },
  {
   "cell_type": "code",
   "execution_count": null,
   "metadata": {
    "collapsed": true
   },
   "outputs": [],
   "source": []
  }
 ],
 "metadata": {
  "kernelspec": {
   "display_name": "Python 3",
   "language": "python",
   "name": "python3"
  },
  "language_info": {
   "codemirror_mode": {
    "name": "ipython",
    "version": 3
   },
   "file_extension": ".py",
   "mimetype": "text/x-python",
   "name": "python",
   "nbconvert_exporter": "python",
   "pygments_lexer": "ipython3",
   "version": "3.6.3"
  }
 },
 "nbformat": 4,
 "nbformat_minor": 2
}
