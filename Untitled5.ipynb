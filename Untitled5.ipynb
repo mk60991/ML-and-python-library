{
 "cells": [
  {
   "cell_type": "code",
   "execution_count": 32,
   "metadata": {},
   "outputs": [
    {
     "name": "stdout",
     "output_type": "stream",
     "text": [
      "   Country  Age  Salary Purchased\n",
      "0   France   44   72000        No\n",
      "1    Spain   -9      -5       Yes\n",
      "2  Germany   -9   54000        No\n",
      "3    Spain   38   61000        No\n",
      "4  Germany   40      -5       Yes\n",
      "5   France   35   58000       Yes\n",
      "6    Spain   -9      -5        No\n",
      "7   France   48   79000       Yes\n",
      "8  Germany   50   83000        No\n",
      "9   France   -9   67000       Yes\n"
     ]
    }
   ],
   "source": [
    "import numpy as np\n",
    "import pandas as pd\n",
    "df=pd.read_csv(\"Data123.csv\")\n",
    "print(df)"
   ]
  },
  {
   "cell_type": "code",
   "execution_count": 31,
   "metadata": {},
   "outputs": [
    {
     "name": "stdout",
     "output_type": "stream",
     "text": [
      "   Country   Age  Salary Purchased\n",
      "0   France  44.0   72000        No\n",
      "1    Spain   NaN      -5       Yes\n",
      "2  Germany   NaN   54000        No\n",
      "3    Spain  38.0   61000        No\n",
      "4  Germany  40.0      -5       Yes\n",
      "5   France  35.0   58000       Yes\n",
      "6    Spain   NaN      -5        No\n",
      "7   France  48.0   79000       Yes\n",
      "8  Germany  50.0   83000        No\n",
      "9   France   NaN   67000       Yes\n"
     ]
    }
   ],
   "source": [
    "newdf=df.replace(-9,np.NaN)\n",
    "print(newdf)"
   ]
  },
  {
   "cell_type": "code",
   "execution_count": 33,
   "metadata": {},
   "outputs": [
    {
     "name": "stdout",
     "output_type": "stream",
     "text": [
      "   Country   Age   Salary Purchased\n",
      "0   France  44.0  72000.0       NaN\n",
      "1    Spain   NaN      NaN       Yes\n",
      "2  Germany   NaN  54000.0       NaN\n",
      "3    Spain  38.0  61000.0       NaN\n",
      "4  Germany  40.0      NaN       Yes\n",
      "5   France  35.0  58000.0       Yes\n",
      "6    Spain   NaN      NaN       NaN\n",
      "7   France  48.0  79000.0       Yes\n",
      "8  Germany  50.0  83000.0       NaN\n",
      "9   France   NaN  67000.0       Yes\n",
      "   Country  Age  Salary Purchased\n",
      "0   France   44   72000        No\n",
      "1    Spain   -9      -5       Yes\n",
      "2  Germany   -9   54000        No\n",
      "3    Spain   38   61000        No\n",
      "4  Germany   40      -5       Yes\n",
      "5   France   35   58000       Yes\n",
      "6    Spain   -9      -5        No\n",
      "7   France   48   79000       Yes\n",
      "8  Germany   50   83000        No\n",
      "9   France   -9   67000       Yes\n"
     ]
    }
   ],
   "source": [
    "newdf=df.replace([-9,-5,'No'],np.NaN)\n",
    "print(newdf)\n",
    "print(df)"
   ]
  },
  {
   "cell_type": "code",
   "execution_count": 34,
   "metadata": {},
   "outputs": [
    {
     "name": "stdout",
     "output_type": "stream",
     "text": [
      "   Country   Age   Salary Purchased\n",
      "0   France  44.0  72000.0       NaN\n",
      "1    Spain   NaN      NaN       Yes\n",
      "2  Germany   NaN  54000.0       NaN\n",
      "3    Spain  38.0  61000.0       NaN\n",
      "4  Germany  40.0      NaN       Yes\n",
      "5   France  35.0  58000.0       Yes\n",
      "6    Spain   NaN      NaN       NaN\n",
      "7   France  48.0  79000.0       Yes\n",
      "8  Germany  50.0  83000.0       NaN\n",
      "9   France   NaN  67000.0       Yes\n"
     ]
    }
   ],
   "source": [
    "newdf=df.replace({\n",
    "    'Age':-9,\n",
    "    'Salary':-5,\n",
    "    'Purchased':'No'\n",
    "    \n",
    "},np.NaN)\n",
    "print(newdf)"
   ]
  },
  {
   "cell_type": "code",
   "execution_count": 35,
   "metadata": {},
   "outputs": [
    {
     "data": {
      "text/html": [
       "<div>\n",
       "<style>\n",
       "    .dataframe thead tr:only-child th {\n",
       "        text-align: right;\n",
       "    }\n",
       "\n",
       "    .dataframe thead th {\n",
       "        text-align: left;\n",
       "    }\n",
       "\n",
       "    .dataframe tbody tr th {\n",
       "        vertical-align: top;\n",
       "    }\n",
       "</style>\n",
       "<table border=\"1\" class=\"dataframe\">\n",
       "  <thead>\n",
       "    <tr style=\"text-align: right;\">\n",
       "      <th></th>\n",
       "      <th>Country</th>\n",
       "      <th>Age</th>\n",
       "      <th>Salary</th>\n",
       "      <th>Purchased</th>\n",
       "    </tr>\n",
       "  </thead>\n",
       "  <tbody>\n",
       "    <tr>\n",
       "      <th>0</th>\n",
       "      <td>France</td>\n",
       "      <td>44</td>\n",
       "      <td>72000</td>\n",
       "      <td>No</td>\n",
       "    </tr>\n",
       "    <tr>\n",
       "      <th>1</th>\n",
       "      <td>Spain</td>\n",
       "      <td>-9</td>\n",
       "      <td>-5</td>\n",
       "      <td>Yes</td>\n",
       "    </tr>\n",
       "    <tr>\n",
       "      <th>2</th>\n",
       "      <td>Germany</td>\n",
       "      <td>-9</td>\n",
       "      <td>54000</td>\n",
       "      <td>No</td>\n",
       "    </tr>\n",
       "    <tr>\n",
       "      <th>3</th>\n",
       "      <td>Spain</td>\n",
       "      <td>38</td>\n",
       "      <td>61000</td>\n",
       "      <td>No</td>\n",
       "    </tr>\n",
       "    <tr>\n",
       "      <th>4</th>\n",
       "      <td>Germany</td>\n",
       "      <td>40</td>\n",
       "      <td>-5</td>\n",
       "      <td>Yes</td>\n",
       "    </tr>\n",
       "    <tr>\n",
       "      <th>5</th>\n",
       "      <td>France</td>\n",
       "      <td>35</td>\n",
       "      <td>58000</td>\n",
       "      <td>Yes</td>\n",
       "    </tr>\n",
       "    <tr>\n",
       "      <th>6</th>\n",
       "      <td>Spain</td>\n",
       "      <td>-9</td>\n",
       "      <td>-5</td>\n",
       "      <td>No</td>\n",
       "    </tr>\n",
       "    <tr>\n",
       "      <th>7</th>\n",
       "      <td>France</td>\n",
       "      <td>48</td>\n",
       "      <td>79000</td>\n",
       "      <td>Yes</td>\n",
       "    </tr>\n",
       "    <tr>\n",
       "      <th>8</th>\n",
       "      <td>Germany</td>\n",
       "      <td>50</td>\n",
       "      <td>83000</td>\n",
       "      <td>No</td>\n",
       "    </tr>\n",
       "    <tr>\n",
       "      <th>9</th>\n",
       "      <td>France</td>\n",
       "      <td>-9</td>\n",
       "      <td>67000</td>\n",
       "      <td>Yes</td>\n",
       "    </tr>\n",
       "  </tbody>\n",
       "</table>\n",
       "</div>"
      ],
      "text/plain": [
       "   Country  Age  Salary Purchased\n",
       "0   France   44   72000        No\n",
       "1    Spain   -9      -5       Yes\n",
       "2  Germany   -9   54000        No\n",
       "3    Spain   38   61000        No\n",
       "4  Germany   40      -5       Yes\n",
       "5   France   35   58000       Yes\n",
       "6    Spain   -9      -5        No\n",
       "7   France   48   79000       Yes\n",
       "8  Germany   50   83000        No\n",
       "9   France   -9   67000       Yes"
      ]
     },
     "execution_count": 35,
     "metadata": {},
     "output_type": "execute_result"
    }
   ],
   "source": [
    "df\n"
   ]
  },
  {
   "cell_type": "code",
   "execution_count": 39,
   "metadata": {},
   "outputs": [
    {
     "name": "stdout",
     "output_type": "stream",
     "text": [
      "   Country   Age   Salary Purchased\n",
      "0   France  44.0  72000.0         0\n",
      "1    Spain   NaN      NaN       Yes\n",
      "2  Germany   NaN  54000.0         0\n",
      "3    Spain  38.0  61000.0         0\n",
      "4  Germany  40.0      NaN       Yes\n",
      "5   France  35.0  58000.0       Yes\n",
      "6    Spain   NaN      NaN         0\n",
      "7   France  48.0  79000.0       Yes\n",
      "8  Germany  50.0  83000.0         0\n",
      "9   France   NaN  67000.0       Yes\n"
     ]
    }
   ],
   "source": [
    "newdf=df.replace({\n",
    "    -9:np.NaN,\n",
    "    -5:np.NaN,\n",
    "    'No':0\n",
    "    \n",
    "})\n",
    "print(newdf)\n"
   ]
  },
  {
   "cell_type": "code",
   "execution_count": 45,
   "metadata": {},
   "outputs": [
    {
     "name": "stdout",
     "output_type": "stream",
     "text": [
      "          score student\n",
      "0   exceptional     rob\n",
      "1       average    maya\n",
      "2          good     tom\n",
      "3          poor    juli\n",
      "4      average1    eric\n",
      "5  exceptional1    adda\n"
     ]
    }
   ],
   "source": [
    "#to create new dataframe itself using dictionary\n",
    "\n",
    "df=pd.DataFrame({\n",
    "    'score':['exceptional','average','good','poor','average1','exceptional1'],\n",
    "    'student':['rob','maya','tom','juli','eric','adda']\n",
    "})\n",
    "print(df)"
   ]
  },
  {
   "cell_type": "code",
   "execution_count": 47,
   "metadata": {},
   "outputs": [
    {
     "name": "stdout",
     "output_type": "stream",
     "text": [
      "         score student\n",
      "0  exceptional     rob\n",
      "1            3    maya\n",
      "2            2     tom\n",
      "3            1    juli\n",
      "4     average1    eric\n",
      "5            4    adda\n"
     ]
    }
   ],
   "source": [
    "newdf=df.replace(['poor','good','average','exceptional1'],[1,2,3,4])\n",
    "print(newdf)"
   ]
  },
  {
   "cell_type": "code",
   "execution_count": null,
   "metadata": {
    "collapsed": true
   },
   "outputs": [],
   "source": []
  }
 ],
 "metadata": {
  "kernelspec": {
   "display_name": "Python 3",
   "language": "python",
   "name": "python3"
  },
  "language_info": {
   "codemirror_mode": {
    "name": "ipython",
    "version": 3
   },
   "file_extension": ".py",
   "mimetype": "text/x-python",
   "name": "python",
   "nbconvert_exporter": "python",
   "pygments_lexer": "ipython3",
   "version": "3.6.3"
  }
 },
 "nbformat": 4,
 "nbformat_minor": 2
}
